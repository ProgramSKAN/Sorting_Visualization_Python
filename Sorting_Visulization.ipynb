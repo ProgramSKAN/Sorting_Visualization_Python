{
 "cells": [
  {
   "cell_type": "code",
   "execution_count": 1,
   "metadata": {},
   "outputs": [],
   "source": [
    "import random\n",
    "import matplotlib.pyplot as plt\n",
    "import matplotlib.animation as anim\n",
    "%matplotlib notebook"
   ]
  },
  {
   "cell_type": "markdown",
   "metadata": {},
   "source": [
    "# Bubble Sort"
   ]
  },
  {
   "cell_type": "code",
   "execution_count": 2,
   "metadata": {},
   "outputs": [],
   "source": [
    "def Bubble_sort(A):\n",
    "    n=len(A)\n",
    "    for i in range(n):\n",
    "        for j in range(n-1-i):\n",
    "            if A[j]>A[j+1]:\n",
    "                A[j],A[j+1]=A[j+1],A[j]\n",
    "            yield A"
   ]
  },
  {
   "cell_type": "markdown",
   "metadata": {},
   "source": [
    "# Insertion Sort"
   ]
  },
  {
   "cell_type": "code",
   "execution_count": 3,
   "metadata": {},
   "outputs": [],
   "source": [
    "def Insertionsort(A):\n",
    "    n=len(A)\n",
    "    for i in range(1,n):\n",
    "        key=A[i]\n",
    "        j=i-1\n",
    "        while j>=0 and A[j]>key:\n",
    "            A[j+1]=A[j]\n",
    "            j-=1\n",
    "        A[j+1]=key\n",
    "        yield A     \n",
    "#or\n",
    "def Insertion_sort(A):\n",
    "    n=len(A)\n",
    "    for i in range(1, n):\n",
    "        j = i\n",
    "        while j > 0 and A[j] < A[j - 1]:\n",
    "            A[j],A[j - 1]=A[j-1],A[j]\n",
    "            j -= 1\n",
    "            yield A"
   ]
  },
  {
   "cell_type": "markdown",
   "metadata": {},
   "source": [
    "# Merge Sort"
   ]
  },
  {
   "cell_type": "code",
   "execution_count": 4,
   "metadata": {},
   "outputs": [],
   "source": [
    "def Merge_sort(A, start, end):\n",
    "    if end <= start:\n",
    "        return\n",
    "\n",
    "    mid = start + ((end - start + 1) // 2) - 1\n",
    "    yield from Merge_sort(A, start, mid)\n",
    "    yield from Merge_sort(A, mid + 1, end)\n",
    "    yield from Merge(A, start, mid, end)\n",
    "    yield A\n",
    "\n",
    "def Merge(A, start, mid, end):    \n",
    "    merged = []\n",
    "    leftIdx = start\n",
    "    rightIdx = mid + 1\n",
    "\n",
    "    while leftIdx <= mid and rightIdx <= end:\n",
    "        if A[leftIdx] < A[rightIdx]:\n",
    "            merged.append(A[leftIdx])\n",
    "            leftIdx += 1\n",
    "        else:\n",
    "            merged.append(A[rightIdx])\n",
    "            rightIdx += 1\n",
    "\n",
    "    while leftIdx <= mid:\n",
    "        merged.append(A[leftIdx])\n",
    "        leftIdx += 1\n",
    "\n",
    "    while rightIdx <= end:\n",
    "        merged.append(A[rightIdx])\n",
    "        rightIdx += 1\n",
    "\n",
    "    for i, sorted_val in enumerate(merged):\n",
    "        A[start + i] = sorted_val\n",
    "        yield A\n"
   ]
  },
  {
   "cell_type": "markdown",
   "metadata": {},
   "source": [
    "# Quick Sort"
   ]
  },
  {
   "cell_type": "code",
   "execution_count": 5,
   "metadata": {
    "scrolled": true
   },
   "outputs": [],
   "source": [
    "def quick_sort(sequence):\n",
    "    length=len(sequence)\n",
    "    if length<=1:\n",
    "        return sequence\n",
    "    else:\n",
    "        pivot=sequence.pop()\n",
    "        \n",
    "    items_greater=[]\n",
    "    items_lower=[]\n",
    "    for  item in sequence:\n",
    "        if item>pivot:\n",
    "            items_greater.append(item)\n",
    "        else:\n",
    "            items_lower.append(item)\n",
    "    return Quick_sort(items_lower)+[pivot]+Quick_sort(items_greater)\n",
    "\n",
    "# A=[9,2,8,4,7,1]\n",
    "# print(quick_sort(A))\n",
    "\n",
    "#or\n",
    "\n",
    "def Quick_sort(A,start,end):\n",
    "    if start>=end:\n",
    "        return\n",
    "    pivot=A[end]\n",
    "    pivot_idx=start\n",
    "    \n",
    "    for i in range(start,end):\n",
    "        if A[i]<pivot:\n",
    "            A[i],A[pivot_idx]=A[pivot_idx],A[i]\n",
    "            pivot_idx+=1\n",
    "        yield A\n",
    "    A[end],A[pivot_idx]=A[pivot_idx],A[end]\n",
    "    yield A\n",
    "    yield from Quick_sort(A,start,pivot_idx-1)\n",
    "    yield from Quick_sort(A,pivot_idx+1,end)"
   ]
  },
  {
   "cell_type": "markdown",
   "metadata": {},
   "source": [
    "# Selection Sort"
   ]
  },
  {
   "cell_type": "code",
   "execution_count": 6,
   "metadata": {},
   "outputs": [],
   "source": [
    "def Selection_sort(A):\n",
    "    if len(A) == 1:\n",
    "        return\n",
    "\n",
    "    for i in range(len(A)):\n",
    "        min_ele_idx=i\n",
    "        for j in range(i+1, len(A)):\n",
    "            if A[min_ele_idx] >A[j]:\n",
    "                min_ele_idx = j\n",
    "            yield A\n",
    "        A[i], A[min_ele_idx]=A[min_ele_idx],A[i]\n",
    "        yield A"
   ]
  },
  {
   "cell_type": "code",
   "execution_count": 7,
   "metadata": {},
   "outputs": [
    {
     "name": "stdout",
     "output_type": "stream",
     "text": [
      "Enter the number of integers to be stored22\n",
      "select the sorting method:\n",
      "b-Bubble Sort\n",
      "i-Insertion Sort\n",
      "m-Merge Sort\n",
      "q-Quicksort\n",
      "s-Selection Sort\n",
      "q\n"
     ]
    },
    {
     "data": {
      "image/png": "[encoded data removed]",
      "text/plain": [
       "<Figure size 432x288 with 1 Axes>"
      ]
     },
     "metadata": {
      "needs_background": "light"
     },
     "output_type": "display_data"
    }
   ],
   "source": [
    "if __name__ == \"__main__\":\n",
    "    N=int(input('Enter the number of integers to be stored'))\n",
    "    sorting_method=input('select the sorting method:\\nb-Bubble Sort\\ni-Insertion Sort\\nm-Merge Sort\\nq-Quicksort\\ns-Selection Sort\\n')\n",
    "    A=[i for i in range(N)]\n",
    "    random.shuffle(A) \n",
    "    if sorting_method=='b':\n",
    "        viz_title='Bubble Sort'\n",
    "        generator=Bubble_sort(A)\n",
    "    if sorting_method=='i':\n",
    "        viz_title='Insertion Sort'\n",
    "        generator=Insertion_sort(A)\n",
    "    if sorting_method=='m':\n",
    "        viz_title='Merge Sort'\n",
    "        generator=Merge_sort(A,0,N-1)\n",
    "    if sorting_method=='q':\n",
    "        viz_title='Quick Sort'\n",
    "        generator=Quick_sort(A,0,N-1)\n",
    "    if sorting_method=='s':\n",
    "        viz_title='Selection Sort'\n",
    "        generator=Selection_sort(A)\n",
    "\n",
    "fig, ax = plt.subplots()\n",
    "ax.set_title(viz_title)\n",
    "bar_rects = ax.bar(range(len(A)), A,alpha=0.5\n",
    "                  )\n",
    "ax.set_xlim(0, N)\n",
    "ax.set_ylim(0, int(1.07 * N))\n",
    "label_text = ax.text(0.5, 0.95, \"\", transform=ax.transAxes)\n",
    "iteration =[0]\n",
    "def update_fig(A, rects, iteration):\n",
    "    for rect, val in zip(rects, A):\n",
    "        rect.set_height(val)\n",
    "    iteration[0] += 1\n",
    "    label_text.set_text(\"Number of Iterations: {}\".format(iteration[0]))\n",
    "\n",
    "a= anim.FuncAnimation(fig, func=update_fig,\n",
    "    fargs=(bar_rects, iteration), frames=generator, interval=1,\n",
    "    repeat=False)\n",
    "plt.show()\n",
    "        "
   ]
  },
  {
   "cell_type": "code",
   "execution_count": null,
   "metadata": {},
   "outputs": [],
   "source": []
  }
 ],
 "metadata": {
  "kernelspec": {
   "display_name": "Python 3",
   "language": "python",
   "name": "python3"
  },
  "language_info": {
   "codemirror_mode": {
    "name": "ipython",
    "version": 3
   },
   "file_extension": ".py",
   "mimetype": "text/x-python",
   "name": "python",
   "nbconvert_exporter": "python",
   "pygments_lexer": "ipython3",
   "version": "3.7.4"
  }
 },
 "nbformat": 4,
 "nbformat_minor": 2
}
